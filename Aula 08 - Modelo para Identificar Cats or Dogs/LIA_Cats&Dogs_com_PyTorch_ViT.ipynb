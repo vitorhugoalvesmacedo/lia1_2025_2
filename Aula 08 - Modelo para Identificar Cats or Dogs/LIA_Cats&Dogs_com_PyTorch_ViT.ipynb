{
  "cells": [
    {
      "cell_type": "markdown",
      "metadata": {
        "id": "view-in-github",
        "colab_type": "text"
      },
      "source": [
        "<a href=\"https://colab.research.google.com/github/scadriano/lia1_2025_2/blob/main/Aula%2008%20-%20Modelo%20para%20Identificar%20Cats%20or%20Dogs/LIA_Cats%26Dogs_com_PyTorch_ViT.ipynb\" target=\"_parent\"><img src=\"https://colab.research.google.com/assets/colab-badge.svg\" alt=\"Open In Colab\"/></a>"
      ]
    },
    {
      "cell_type": "markdown",
      "metadata": {
        "id": "DnKGzSJPd9iE"
      },
      "source": [
        "# Dogs & Cats com Vision Transformer (ViT) 🐶 🐱\n",
        "\n",
        "Este projeto objetiva implementar um classificador de Cães e Gatos, usando um modelo pré-treinado do tipo transformer de visão, com PyTorch da biblioteca Hugging Face Transformers.\n",
        "\n",
        "O dataset tem 1002 imagens para treino (501 dogs; 501 cats) e 200 imagens para teste (100 dogs; 100 cats), mais o duno!"
      ]
    },
    {
      "cell_type": "markdown",
      "source": [
        "## Preparação dos dados"
      ],
      "metadata": {
        "id": "8IOmIQylJsJf"
      }
    },
    {
      "cell_type": "code",
      "execution_count": null,
      "metadata": {
        "id": "bwY405nkd9iG"
      },
      "outputs": [],
      "source": [
        "# Instalar pacotes necessários\n",
        "!pip install -q transformers datasets evaluate"
      ]
    },
    {
      "cell_type": "code",
      "source": [
        "# Baixar os datasets (treino) do GitHub\n",
        "!wget -q https://github.com/scadriano/lia1_2025_2/raw/main/Aula%2008%20-%20Modelo%20para%20Identificar%20Cats%20or%20Dogs/dataset_treino.zip"
      ],
      "metadata": {
        "id": "34M4au2MedS0"
      },
      "execution_count": null,
      "outputs": []
    },
    {
      "cell_type": "code",
      "source": [
        "# Baixar os datasets (teste) do GitHub\n",
        "!wget -q https://github.com/scadriano/lia1_2025_2/raw/main/Aula%2008%20-%20Modelo%20para%20Identificar%20Cats%20or%20Dogs/dataset_teste.zip"
      ],
      "metadata": {
        "id": "JkA64giwgDhX"
      },
      "execution_count": null,
      "outputs": []
    },
    {
      "cell_type": "code",
      "source": [
        "# Descompactar os arquivos (treino)\n",
        "!unzip -q dataset_treino.zip"
      ],
      "metadata": {
        "id": "n21TDReyegBR"
      },
      "execution_count": null,
      "outputs": []
    },
    {
      "cell_type": "code",
      "source": [
        "# Descompactar os arquivos (teste)\n",
        "!unzip -q dataset_teste.zip"
      ],
      "metadata": {
        "id": "Za7M9fMDgFrX"
      },
      "execution_count": null,
      "outputs": []
    },
    {
      "cell_type": "code",
      "execution_count": null,
      "metadata": {
        "id": "zC8HqnYYd9iH"
      },
      "outputs": [],
      "source": [
        "# Importação de bibliotecas\n",
        "import torch\n",
        "from torch.utils.data import DataLoader, Dataset, random_split\n",
        "from torchvision.datasets import ImageFolder\n",
        "from transformers import ViTForImageClassification, ViTImageProcessor\n",
        "from PIL import Image\n",
        "from tqdm import tqdm\n",
        "import matplotlib.pyplot as plt\n",
        "from sklearn.metrics import confusion_matrix, ConfusionMatrixDisplay"
      ]
    },
    {
      "cell_type": "code",
      "source": [
        "# Definir dispositivo (GPU se disponível)\n",
        "device = torch.device('cuda' if torch.cuda.is_available() else 'cpu')\n",
        "print(f'✅ Usando dispositivo: {device}')"
      ],
      "metadata": {
        "id": "OVDCLyhIIl9K"
      },
      "execution_count": null,
      "outputs": []
    },
    {
      "cell_type": "code",
      "execution_count": null,
      "metadata": {
        "id": "DzSEQZNRd9iI"
      },
      "outputs": [],
      "source": [
        "# Nome do modelo pré-treinado\n",
        "model_name = \"google/vit-base-patch16-224\"\n",
        "\n",
        "# Carregar processador e modelo\n",
        "processor = ViTImageProcessor.from_pretrained(model_name)\n",
        "model = ViTForImageClassification.from_pretrained(\n",
        "    model_name,\n",
        "    num_labels=2,                 # 2 classes: gato ou cachorro\n",
        "    ignore_mismatched_sizes=True  # permite ajustar camadas finais\n",
        ")\n",
        "model = model.to(device)"
      ]
    },
    {
      "cell_type": "code",
      "execution_count": null,
      "metadata": {
        "id": "xc6hDv-3d9iI"
      },
      "outputs": [],
      "source": [
        "# Criar o dataset personalizado\n",
        "class DogsAndCatsDataset(Dataset):\n",
        "    def __init__(self, root_dir, processor):\n",
        "        self.dataset = ImageFolder(root_dir)\n",
        "        self.processor = processor\n",
        "\n",
        "    def __len__(self):\n",
        "        return len(self.dataset)\n",
        "\n",
        "    def __getitem__(self, idx):\n",
        "        image, label = self.dataset[idx]\n",
        "        # Pré-processar imagem para o ViT\n",
        "        inputs = self.processor(images=image, return_tensors=\"pt\")\n",
        "        pixel_values = inputs['pixel_values'].squeeze()\n",
        "        return pixel_values, label"
      ]
    },
    {
      "cell_type": "code",
      "execution_count": null,
      "metadata": {
        "id": "Rgeb8HTod9iI"
      },
      "outputs": [],
      "source": [
        "# Dividir o dataset em treino e validação\n",
        "\n",
        "# Diretório de treino\n",
        "train_dir = './dataset_treino'\n",
        "\n",
        "# Criar dataset completo\n",
        "full_dataset = DogsAndCatsDataset(train_dir, processor)\n",
        "\n",
        "# Dividir em treino (80%) e validação (20%)\n",
        "train_size = int(0.8 * len(full_dataset))\n",
        "val_size = len(full_dataset) - train_size\n",
        "train_dataset, val_dataset = random_split(full_dataset, [train_size, val_size])\n",
        "\n",
        "print(f'Total de imagens: {len(full_dataset)}')\n",
        "print(f'Treinamento: {len(train_dataset)} | Validação: {len(val_dataset)}')\n",
        "\n",
        "# DataLoader\n",
        "batch_size = 32\n",
        "train_loader = DataLoader(train_dataset, batch_size=batch_size, shuffle=True)\n",
        "val_loader = DataLoader(val_dataset, batch_size=batch_size)"
      ]
    },
    {
      "cell_type": "markdown",
      "source": [
        "## Treinamento"
      ],
      "metadata": {
        "id": "b8z-BH7YJ6_h"
      }
    },
    {
      "cell_type": "code",
      "execution_count": null,
      "metadata": {
        "id": "Fyv5_rhjd9iJ"
      },
      "outputs": [],
      "source": [
        "# Treinamento\n",
        "\n",
        "# Configurações de treino\n",
        "num_epochs = 10\n",
        "optimizer = torch.optim.AdamW(model.parameters(), lr=5e-5)\n",
        "\n",
        "# Loop de treinamento\n",
        "for epoch in range(num_epochs):\n",
        "    model.train()\n",
        "    total_loss, correct, total = 0, 0, 0\n",
        "\n",
        "    progress_bar = tqdm(train_loader, desc=f'Epoch {epoch + 1}/{num_epochs}')\n",
        "    for images, labels in progress_bar:\n",
        "        images, labels = images.to(device), labels.to(device)\n",
        "\n",
        "        optimizer.zero_grad()\n",
        "        outputs = model(pixel_values=images, labels=labels)\n",
        "        loss = outputs.loss\n",
        "        loss.backward()\n",
        "        optimizer.step()\n",
        "\n",
        "        total_loss += loss.item()\n",
        "        _, predicted = outputs.logits.max(1)\n",
        "        total += labels.size(0)\n",
        "        correct += predicted.eq(labels).sum().item()\n",
        "\n",
        "        progress_bar.set_postfix(\n",
        "            loss=total_loss/(len(progress_bar)),\n",
        "            accuracy=100.*correct/total\n",
        "        )\n",
        "\n",
        "    # Validação\n",
        "    model.eval()\n",
        "    val_correct, val_total, val_loss = 0, 0, 0\n",
        "    with torch.no_grad():\n",
        "        for images, labels in val_loader:\n",
        "            images, labels = images.to(device), labels.to(device)\n",
        "            outputs = model(pixel_values=images, labels=labels)\n",
        "            val_loss += outputs.loss.item()\n",
        "            _, predicted = outputs.logits.max(1)\n",
        "            val_total += labels.size(0)\n",
        "            val_correct += predicted.eq(labels).sum().item()\n",
        "\n",
        "    print(f\"📊 Epoch {epoch+1}/{num_epochs}\")\n",
        "    print(f\"  Treino: Loss {total_loss/len(train_loader):.4f} | Acc {100.*correct/total:.2f}%\")\n",
        "    print(f\"  Val   : Loss {val_loss/len(val_loader):.4f} | Acc {100.*val_correct/val_total:.2f}%\\n\")\n"
      ]
    },
    {
      "cell_type": "code",
      "source": [
        "# Gerar a Matriz de Confusão\n",
        "all_preds, all_labels = [], []\n",
        "model.eval()\n",
        "with torch.no_grad():\n",
        "    for images, labels in val_loader:\n",
        "        images, labels = images.to(device), labels.to(device)\n",
        "        outputs = model(pixel_values=images, labels=labels)\n",
        "        _, predicted = outputs.logits.max(1)\n",
        "        all_preds.extend(predicted.cpu().numpy())\n",
        "        all_labels.extend(labels.cpu().numpy())\n",
        "\n",
        "# Matriz de confusão (0 cat; 1 dog)\n",
        "cm = confusion_matrix(all_labels, all_preds)\n",
        "disp = ConfusionMatrixDisplay(confusion_matrix=cm, display_labels=['cat','dog'])\n",
        "disp.plot(cmap='Blues')\n",
        "plt.title(\"Matriz de Confusão\")\n",
        "plt.show()"
      ],
      "metadata": {
        "id": "V7S-v0cDe4EH"
      },
      "execution_count": null,
      "outputs": []
    },
    {
      "cell_type": "markdown",
      "source": [
        "## Deploy - inferência em nova imagem"
      ],
      "metadata": {
        "id": "3xeQZkNwh12I"
      }
    },
    {
      "cell_type": "code",
      "execution_count": null,
      "metadata": {
        "id": "joRXZHIMd9iJ"
      },
      "outputs": [],
      "source": [
        "from PIL import Image\n",
        "\n",
        "# Carregar imagem de teste\n",
        "test_image_path = './dataset_teste/100.jpg'\n",
        "image = Image.open(test_image_path)\n",
        "\n",
        "# Pré-processar\n",
        "inputs = processor(images=image, return_tensors=\"pt\").to(device)\n",
        "\n",
        "# Inferência\n",
        "model.eval()\n",
        "with torch.no_grad():\n",
        "    outputs = model(**inputs)\n",
        "    probabilities = torch.nn.functional.softmax(outputs.logits, dim=-1)\n",
        "    predicted_class = torch.argmax(probabilities, dim=-1).item()\n",
        "\n",
        "class_names = ['cat', 'dog']\n",
        "predicted_label = class_names[predicted_class]\n",
        "confidence = probabilities[0][predicted_class].item()\n",
        "\n",
        "print(f\"🐾 Classe predita: {predicted_label} | Confiança: {confidence:.2%}\")\n",
        "image"
      ]
    }
  ],
  "metadata": {
    "kernelspec": {
      "display_name": "Python 3",
      "name": "python3"
    },
    "language_info": {
      "codemirror_mode": {
        "name": "ipython",
        "version": 3
      },
      "file_extension": ".py",
      "mimetype": "text/x-python",
      "name": "python",
      "nbconvert_exporter": "python",
      "pygments_lexer": "ipython3",
      "version": "3.8.0"
    },
    "colab": {
      "provenance": [],
      "gpuType": "T4",
      "include_colab_link": true
    },
    "accelerator": "GPU"
  },
  "nbformat": 4,
  "nbformat_minor": 0
}