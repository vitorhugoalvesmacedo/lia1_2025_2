{
  "cells": [
    {
      "cell_type": "markdown",
      "metadata": {
        "id": "view-in-github",
        "colab_type": "text"
      },
      "source": [
        "<a href=\"https://colab.research.google.com/github/scadriano/lia1_2025_2/blob/main/Aula%2007%20-%20Projeto%20ponta%20a%20ponta%20-%20Tensor%20Flow/Vis%C3%A3o_Computacional_Construindo_um_modelo_com_TensorFlow_Cifar10ds.ipynb\" target=\"_parent\"><img src=\"https://colab.research.google.com/assets/colab-badge.svg\" alt=\"Open In Colab\"/></a>"
      ]
    },
    {
      "cell_type": "markdown",
      "id": "b061b4ec",
      "metadata": {
        "id": "b061b4ec"
      },
      "source": [
        "## <font color='Blue'>Projeto Ponta a Ponta - Construindo um Modelo com TensorFlow</font>\n",
        "\n",
        "Construir um modelo de Inteligência Artificial capaz de classificar imagens considerando 10 categorias: ['airplane', 'automobile', 'bird', 'cat', 'deer', 'dog', 'frog', 'horse', 'ship', 'truck']. Dada uma nova imagem de uma dessas categorias o modelo deve ser capaz de classificar e indicar o que é a imagem. <font color='red'>Lembrando: uma imagem é uma matriz de pixels!</font>\n",
        "\n",
        "Conheça o TensorFlow! -> https://www.tensorflow.org/"
      ]
    },
    {
      "cell_type": "code",
      "execution_count": null,
      "id": "b0d022f0",
      "metadata": {
        "id": "b0d022f0",
        "colab": {
          "base_uri": "https://localhost:8080/"
        },
        "outputId": "435fe8cf-25ce-49a2-ba7e-141cece8695d"
      },
      "outputs": [
        {
          "output_type": "stream",
          "name": "stdout",
          "text": [
            "Versão do Python neste Notebook: 3.12.11\n"
          ]
        }
      ],
      "source": [
        "# Versão da Linguagem Python\n",
        "from platform import python_version\n",
        "print('Versão do Python neste Notebook:', python_version())"
      ]
    },
    {
      "cell_type": "code",
      "execution_count": null,
      "id": "cdd85471",
      "metadata": {
        "id": "cdd85471"
      },
      "outputs": [],
      "source": [
        "# Instala o TF\n",
        "#!pip install -q tensorflow==2.12\n",
        "!pip install -q tensorflow"
      ]
    },
    {
      "cell_type": "code",
      "execution_count": null,
      "id": "fda41ca2",
      "metadata": {
        "id": "fda41ca2",
        "colab": {
          "base_uri": "https://localhost:8080/"
        },
        "outputId": "535220cf-40cc-4c55-b443-d6301c5cbe92"
      },
      "outputs": [
        {
          "output_type": "stream",
          "name": "stdout",
          "text": [
            "env: TF_CPP_MIN_LOG_LEVEL=3\n"
          ]
        }
      ],
      "source": [
        "# Silencia mensagens do TF\n",
        "%env TF_CPP_MIN_LOG_LEVEL=3"
      ]
    },
    {
      "cell_type": "code",
      "execution_count": null,
      "id": "b4db14f6",
      "metadata": {
        "id": "b4db14f6"
      },
      "outputs": [],
      "source": [
        "# Imports\n",
        "import tensorflow as tf\n",
        "from tensorflow.keras import datasets, layers, models\n",
        "import matplotlib.pyplot as plt\n",
        "import numpy as np\n",
        "import seaborn as sns\n",
        "from PIL import Image"
      ]
    },
    {
      "cell_type": "markdown",
      "id": "cba483b3",
      "metadata": {
        "id": "cba483b3"
      },
      "source": [
        "## Carregando os dados - matéria prima\n",
        "\n",
        "https://www.cs.toronto.edu/~kriz/cifar.html"
      ]
    },
    {
      "cell_type": "code",
      "execution_count": null,
      "id": "afa85302",
      "metadata": {
        "id": "afa85302",
        "colab": {
          "base_uri": "https://localhost:8080/"
        },
        "outputId": "95550c60-3e21-4d0a-9f62-8fddc35cf7c7"
      },
      "outputs": [
        {
          "output_type": "stream",
          "name": "stdout",
          "text": [
            "Downloading data from https://www.cs.toronto.edu/~kriz/cifar-10-python.tar.gz\n",
            "\u001b[1m170498071/170498071\u001b[0m \u001b[32m━━━━━━━━━━━━━━━━━━━━\u001b[0m\u001b[37m\u001b[0m \u001b[1m13s\u001b[0m 0us/step\n"
          ]
        }
      ],
      "source": [
        "# Carrega o dataset CIFAR-10 - Já está no Keras!\n",
        "(imagens_treino, labels_treino), (imagens_teste, labels_teste) = datasets.cifar10.load_data()"
      ]
    },
    {
      "cell_type": "code",
      "execution_count": null,
      "id": "7387241b",
      "metadata": {
        "id": "7387241b"
      },
      "outputs": [],
      "source": [
        "# Classes das imagens\n",
        "nomes_classes = ['airplane', 'automobile', 'bird', 'cat', 'deer', 'dog', 'frog', 'horse', 'ship', 'truck']"
      ]
    },
    {
      "cell_type": "markdown",
      "id": "9acec111",
      "metadata": {
        "id": "9acec111"
      },
      "source": [
        "## Pré-processamento e Visualização das imagens"
      ]
    },
    {
      "cell_type": "code",
      "execution_count": null,
      "id": "f1d5db72",
      "metadata": {
        "id": "f1d5db72"
      },
      "outputs": [],
      "source": [
        "# Normaliza os valores dos pixels para que os dados fiquem na mesma escala\n",
        "imagens_treino = imagens_treino / 255.0\n",
        "imagens_teste = imagens_teste / 255.0"
      ]
    },
    {
      "cell_type": "code",
      "execution_count": null,
      "id": "ad448461",
      "metadata": {
        "id": "ad448461"
      },
      "outputs": [],
      "source": [
        "# Função para exibir as imagens\n",
        "def visualiza_imagens(images, labels):\n",
        "    plt.figure(figsize = (10,10))\n",
        "    for i in range(25):\n",
        "        plt.subplot(5, 5, i+1)\n",
        "        plt.xticks([])\n",
        "        plt.yticks([])\n",
        "        plt.grid(False)\n",
        "        plt.imshow(images[i], cmap = plt.cm.binary)\n",
        "        plt.xlabel(nomes_classes[labels[i][0]])\n",
        "    plt.show()"
      ]
    },
    {
      "cell_type": "code",
      "execution_count": null,
      "id": "a170682f",
      "metadata": {
        "id": "a170682f"
      },
      "outputs": [],
      "source": [
        "# Executa a função\n",
        "visualiza_imagens(imagens_treino, labels_treino)"
      ]
    },
    {
      "cell_type": "markdown",
      "id": "9697de60",
      "metadata": {
        "id": "9697de60"
      },
      "source": [
        "## Construção do Modelo"
      ]
    },
    {
      "cell_type": "code",
      "execution_count": null,
      "id": "38c1a0c3",
      "metadata": {
        "id": "38c1a0c3"
      },
      "outputs": [],
      "source": [
        "# Arquitetura do Modelo -> Feature Learning\n",
        "\n",
        "from tensorflow.keras import models, layers\n",
        "\n",
        "modelo_lia = models.Sequential()\n",
        "\n",
        "# Camada de entrada\n",
        "modelo_lia.add(layers.Input(shape=(32, 32, 3)))\n",
        "\n",
        "# Blocos convolucionais + pooling\n",
        "modelo_lia.add(layers.Conv2D(32, (3, 3), activation='relu'))\n",
        "modelo_lia.add(layers.MaxPooling2D((2, 2)))\n",
        "\n",
        "modelo_lia.add(layers.Conv2D(64, (3, 3), activation='relu'))\n",
        "modelo_lia.add(layers.MaxPooling2D((2, 2)))\n",
        "\n",
        "modelo_lia.add(layers.Conv2D(64, (3, 3), activation='relu'))\n",
        "modelo_lia.add(layers.MaxPooling2D((2, 2)))"
      ]
    },
    {
      "cell_type": "code",
      "execution_count": null,
      "id": "c961dcd5",
      "metadata": {
        "id": "c961dcd5"
      },
      "outputs": [],
      "source": [
        "# Adicionar camadas de classificação - Converte para um vetor - flatten\n",
        "modelo_lia.add(layers.Flatten())\n",
        "modelo_lia.add(layers.Dense(64, activation = 'relu'))\n",
        "modelo_lia.add(layers.Dense(10, activation = 'softmax'))"
      ]
    },
    {
      "cell_type": "code",
      "execution_count": null,
      "id": "8a1189a6",
      "metadata": {
        "id": "8a1189a6"
      },
      "outputs": [],
      "source": [
        "# Sumário do modelo\n",
        "modelo_lia.summary()"
      ]
    },
    {
      "cell_type": "code",
      "execution_count": null,
      "id": "ddf754e0",
      "metadata": {
        "id": "ddf754e0"
      },
      "outputs": [],
      "source": [
        "# Compilação do modelo\n",
        "modelo_lia.compile(optimizer = 'adam',\n",
        "                   loss = 'sparse_categorical_crossentropy',\n",
        "                   metrics = ['accuracy'])\n",
        "\n",
        "# adam - é um algoritmo de aprendizagem tipo backpropagation!\n",
        "# loss - função de erro. Isso se resume a uma otimização função matemática!\n",
        "# metrics - medir o sucesso!"
      ]
    },
    {
      "cell_type": "code",
      "execution_count": null,
      "id": "facc78a3",
      "metadata": {
        "id": "facc78a3",
        "colab": {
          "base_uri": "https://localhost:8080/"
        },
        "outputId": "7db5612e-8da7-4f0e-bccc-692d05d6b6d9"
      },
      "outputs": [
        {
          "output_type": "stream",
          "name": "stdout",
          "text": [
            "Epoch 1/2\n",
            "\u001b[1m1563/1563\u001b[0m \u001b[32m━━━━━━━━━━━━━━━━━━━━\u001b[0m\u001b[37m\u001b[0m \u001b[1m14s\u001b[0m 6ms/step - accuracy: 0.3438 - loss: 1.7749 - val_accuracy: 0.5698 - val_loss: 1.1954\n",
            "Epoch 2/2\n",
            "\u001b[1m1563/1563\u001b[0m \u001b[32m━━━━━━━━━━━━━━━━━━━━\u001b[0m\u001b[37m\u001b[0m \u001b[1m6s\u001b[0m 4ms/step - accuracy: 0.5808 - loss: 1.1866 - val_accuracy: 0.6289 - val_loss: 1.0629\n",
            "CPU times: user 18.5 s, sys: 2.07 s, total: 20.5 s\n",
            "Wall time: 21.9 s\n"
          ]
        }
      ],
      "source": [
        "%%time\n",
        "history = modelo_lia.fit(imagens_treino,\n",
        "                         labels_treino,\n",
        "                         epochs = 2,\n",
        "                         validation_data = (imagens_teste, labels_teste))"
      ]
    },
    {
      "cell_type": "markdown",
      "id": "be40b4d5",
      "metadata": {
        "id": "be40b4d5"
      },
      "source": [
        "## Avaliação do modelo"
      ]
    },
    {
      "cell_type": "code",
      "execution_count": null,
      "id": "def4eef7",
      "metadata": {
        "id": "def4eef7",
        "colab": {
          "base_uri": "https://localhost:8080/"
        },
        "outputId": "8cc2ca90-ff3d-40b4-cf21-1dfda1396542"
      },
      "outputs": [
        {
          "output_type": "stream",
          "name": "stdout",
          "text": [
            "313/313 - 1s - 2ms/step - accuracy: 0.6289 - loss: 1.0629\n"
          ]
        }
      ],
      "source": [
        "# Avalia o modelo\n",
        "erro_teste, acc_teste = modelo_lia.evaluate(imagens_teste, labels_teste, verbose = 2)"
      ]
    },
    {
      "cell_type": "code",
      "execution_count": null,
      "id": "5884fb6e",
      "metadata": {
        "id": "5884fb6e",
        "colab": {
          "base_uri": "https://localhost:8080/"
        },
        "outputId": "b35c57ae-4ace-4bf0-c157-dbdf8a241c1e"
      },
      "outputs": [
        {
          "output_type": "stream",
          "name": "stdout",
          "text": [
            "\n",
            "Acurácia com dados de Teste: 0.6288999915122986\n"
          ]
        }
      ],
      "source": [
        "print('\\nAcurácia com dados de Teste:', acc_teste)"
      ]
    },
    {
      "cell_type": "code",
      "execution_count": null,
      "id": "ebfae2e9-0739-4cae-9562-b2e81dfca070",
      "metadata": {
        "id": "ebfae2e9-0739-4cae-9562-b2e81dfca070",
        "colab": {
          "base_uri": "https://localhost:8080/",
          "height": 825
        },
        "outputId": "edc60c24-1f24-42c7-f4fa-cbbf00fc0656"
      },
      "outputs": [
        {
          "output_type": "stream",
          "name": "stdout",
          "text": [
            "\u001b[1m313/313\u001b[0m \u001b[32m━━━━━━━━━━━━━━━━━━━━\u001b[0m\u001b[37m\u001b[0m \u001b[1m1s\u001b[0m 2ms/step\n"
          ]
        },
        {
          "output_type": "display_data",
          "data": {
            "text/plain": [
              "<Figure size 1000x800 with 2 Axes>"
            ],
            "image/png": "[encoded data removed]"
          },
          "metadata": {}
        }
      ],
      "source": [
        "# Imprime a matriz de confusão\n",
        "from sklearn.metrics import confusion_matrix\n",
        "\n",
        "# Previsão do modelo\n",
        "y_pred = modelo_lia.predict(imagens_teste)\n",
        "y_pred_classes = np.argmax(y_pred, axis=1)\n",
        "\n",
        "# Labels já estão no formato inteiro, então podemos usá-las diretamente\n",
        "y_true = labels_teste.flatten()  # Caso labels_teste tenha shape (10000, 1)\n",
        "\n",
        "# Geração da matriz de confusão\n",
        "cm = confusion_matrix(y_true, y_pred_classes)\n",
        "\n",
        "# Impressão\n",
        "plt.figure(figsize=(10, 8))\n",
        "sns.heatmap(cm, annot=True, fmt='d', cmap='Blues',\n",
        "            xticklabels=nomes_classes,\n",
        "            yticklabels=nomes_classes)\n",
        "plt.title('Matriz de Confusão - CIFAR-10')\n",
        "plt.xlabel('Rótulo Previsto')\n",
        "plt.ylabel('Rótulo Real')\n",
        "plt.xticks(rotation=45)\n",
        "plt.yticks(rotation=0)\n",
        "plt.tight_layout()\n",
        "plt.show()"
      ]
    },
    {
      "cell_type": "markdown",
      "id": "1f65532f",
      "metadata": {
        "id": "1f65532f"
      },
      "source": [
        "## Deploy do modelo"
      ]
    },
    {
      "cell_type": "code",
      "execution_count": null,
      "id": "b01dd86d",
      "metadata": {
        "id": "b01dd86d"
      },
      "outputs": [],
      "source": [
        "# Carrega uma nova imagem\n",
        "nova_imagem = Image.open(\"/content/Image3.png\")"
      ]
    },
    {
      "cell_type": "code",
      "execution_count": null,
      "id": "e94ba112",
      "metadata": {
        "id": "e94ba112",
        "colab": {
          "base_uri": "https://localhost:8080/"
        },
        "outputId": "8ba3488d-d8d5-4194-a5de-d34508613071"
      },
      "outputs": [
        {
          "output_type": "execute_result",
          "data": {
            "text/plain": [
              "(1024, 1536)"
            ]
          },
          "metadata": {},
          "execution_count": 47
        }
      ],
      "source": [
        "# Dimensões da imagem (em pixels)\n",
        "nova_imagem.size"
      ]
    },
    {
      "cell_type": "code",
      "execution_count": null,
      "id": "8544e82c",
      "metadata": {
        "id": "8544e82c"
      },
      "outputs": [],
      "source": [
        "# Obtém largura e altura da imagem\n",
        "largura = nova_imagem.width\n",
        "altura = nova_imagem.height"
      ]
    },
    {
      "cell_type": "code",
      "execution_count": null,
      "id": "892ab029",
      "metadata": {
        "id": "892ab029",
        "colab": {
          "base_uri": "https://localhost:8080/"
        },
        "outputId": "35366a4c-0e03-4fe6-904f-fee297fe9beb"
      },
      "outputs": [
        {
          "output_type": "stream",
          "name": "stdout",
          "text": [
            "A largura da imagem é:  1024\n",
            "A altura da imagem é:  1536\n"
          ]
        }
      ],
      "source": [
        "print(\"A largura da imagem é: \", largura)\n",
        "print(\"A altura da imagem é: \", altura)"
      ]
    },
    {
      "cell_type": "code",
      "execution_count": null,
      "id": "0224525b",
      "metadata": {
        "id": "0224525b"
      },
      "outputs": [],
      "source": [
        "# Redimensiona para 32x32 pixels\n",
        "nova_imagem = nova_imagem.resize((32, 32))"
      ]
    },
    {
      "cell_type": "code",
      "execution_count": null,
      "id": "7ed685cf",
      "metadata": {
        "id": "7ed685cf",
        "colab": {
          "base_uri": "https://localhost:8080/",
          "height": 114
        },
        "outputId": "b36399a0-f53f-48bb-9fbf-99b5db7fdbf2"
      },
      "outputs": [
        {
          "output_type": "display_data",
          "data": {
            "text/plain": [
              "<Figure size 100x100 with 1 Axes>"
            ],
            "image/png": "[encoded data removed]"
          },
          "metadata": {}
        }
      ],
      "source": [
        "# Exibir a imagem\n",
        "plt.figure(figsize = (1,1))\n",
        "plt.imshow(nova_imagem)\n",
        "plt.xticks([])\n",
        "plt.yticks([])\n",
        "plt.show()"
      ]
    },
    {
      "cell_type": "code",
      "execution_count": null,
      "id": "897af67c",
      "metadata": {
        "id": "897af67c"
      },
      "outputs": [],
      "source": [
        "# Converte a imagem para um array NumPy e normaliza\n",
        "nova_imagem_array = np.array(nova_imagem) / 255.0"
      ]
    },
    {
      "cell_type": "code",
      "execution_count": null,
      "id": "516ebff6",
      "metadata": {
        "id": "516ebff6"
      },
      "outputs": [],
      "source": [
        "# Expande a dimensão do array para que ele tenha o formato (1, 32, 32, 3)\n",
        "nova_imagem_array = np.expand_dims(nova_imagem_array, axis = 0)"
      ]
    },
    {
      "cell_type": "code",
      "execution_count": null,
      "id": "98da1f69",
      "metadata": {
        "id": "98da1f69",
        "colab": {
          "base_uri": "https://localhost:8080/"
        },
        "outputId": "b691221a-c837-4f1b-c9a2-45b44fbe1496"
      },
      "outputs": [
        {
          "output_type": "stream",
          "name": "stdout",
          "text": [
            "\u001b[1m1/1\u001b[0m \u001b[32m━━━━━━━━━━━━━━━━━━━━\u001b[0m\u001b[37m\u001b[0m \u001b[1m0s\u001b[0m 29ms/step\n"
          ]
        }
      ],
      "source": [
        "# Previsões\n",
        "previsoes = modelo_lia.predict(nova_imagem_array)"
      ]
    },
    {
      "cell_type": "code",
      "execution_count": null,
      "id": "b2a9a5ba",
      "metadata": {
        "id": "b2a9a5ba",
        "colab": {
          "base_uri": "https://localhost:8080/"
        },
        "outputId": "abec3aff-aeec-41a7-ddcb-5523d9aa0bf7"
      },
      "outputs": [
        {
          "output_type": "stream",
          "name": "stdout",
          "text": [
            "[[0.10033084 0.14747928 0.04238559 0.30049977 0.05889821 0.0948134\n",
            "  0.07256979 0.04056402 0.06757037 0.07488867]]\n"
          ]
        }
      ],
      "source": [
        "print(previsoes)"
      ]
    },
    {
      "cell_type": "code",
      "execution_count": null,
      "id": "1ad3dfec",
      "metadata": {
        "id": "1ad3dfec"
      },
      "outputs": [],
      "source": [
        "# Obtém a classe com maior probabilidade e o nome da classe\n",
        "classe_prevista = np.argmax(previsoes)\n",
        "nome_classe_prevista = nomes_classes[classe_prevista]"
      ]
    },
    {
      "cell_type": "code",
      "execution_count": null,
      "id": "d13e361b",
      "metadata": {
        "id": "d13e361b",
        "colab": {
          "base_uri": "https://localhost:8080/"
        },
        "outputId": "03abe7b0-ebf1-46e0-ceb6-ef033346d9c9"
      },
      "outputs": [
        {
          "output_type": "stream",
          "name": "stdout",
          "text": [
            "A nova imagem foi classificada como: cat\n"
          ]
        }
      ],
      "source": [
        "print(\"A nova imagem foi classificada como:\", nome_classe_prevista)"
      ]
    },
    {
      "cell_type": "markdown",
      "id": "9b22cb7c",
      "metadata": {
        "id": "9b22cb7c"
      },
      "source": [
        "Se você chegou até aqui, parabéns! 🎆 🔥"
      ]
    }
  ],
  "metadata": {
    "kernelspec": {
      "display_name": "Python 3",
      "name": "python3"
    },
    "language_info": {
      "codemirror_mode": {
        "name": "ipython",
        "version": 3
      },
      "file_extension": ".py",
      "mimetype": "text/x-python",
      "name": "python",
      "nbconvert_exporter": "python",
      "pygments_lexer": "ipython3",
      "version": "3.12.7"
    },
    "colab": {
      "provenance": [],
      "gpuType": "T4",
      "include_colab_link": true
    },
    "accelerator": "GPU"
  },
  "nbformat": 4,
  "nbformat_minor": 5
}